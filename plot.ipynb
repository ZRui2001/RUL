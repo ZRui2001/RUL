{
 "cells": [
  {
   "cell_type": "code",
   "execution_count": 1,
   "metadata": {},
   "outputs": [],
   "source": [
    "from data_preprocess import *\n",
    "from train_and_test import *\n",
    "import os\n",
    "import re\n",
    "import yaml\n",
    "from typing import List, Dict"
   ]
  },
  {
   "cell_type": "code",
   "execution_count": null,
   "metadata": {},
   "outputs": [
    {
     "ename": "",
     "evalue": "",
     "output_type": "error",
     "traceback": [
      "\u001b[1;31mThe Kernel crashed while executing code in the current cell or a previous cell. \n",
      "\u001b[1;31mPlease review the code in the cell(s) to identify a possible cause of the failure. \n",
      "\u001b[1;31mClick <a href='https://aka.ms/vscodeJupyterKernelCrash'>here</a> for more info. \n",
      "\u001b[1;31mView Jupyter <a href='command:jupyter.viewOutput'>log</a> for further details."
     ]
    }
   ],
   "source": [
    "def parse_model_filename(filename, pattern=r\"exp-(\\d+)_(\\w+)_s-(\\d+)\\.pth\"):\n",
    "    match = re.match(pattern, filename)\n",
    "\n",
    "    if match:\n",
    "        exp_num = int(match.group(1))     \n",
    "        model_name = match.group(2)  \n",
    "        s_num = int(match.group(3))     \n",
    "        return exp_num, model_name, s_num\n",
    "    raise ValueError(f\"不符合预期格式的文件名：{filename}\")"
   ]
  },
  {
   "cell_type": "code",
   "execution_count": null,
   "metadata": {},
   "outputs": [],
   "source": [
    "dir = 'saved_models'\n",
    "test_models = {\n",
    "    'lstm': [3, 5],\n",
    "    'gru': [4],\n",
    "    'det': [4, 5]\n",
    "}\n",
    "\n",
    "# 获取配置参数\n",
    "with open('config.yaml', 'r', encoding='utf-8') as file:\n",
    "    config = yaml.safe_load(file)\n",
    "data_config, models_config, start_points, model_save_dir, seeds = (\n",
    "    config['data']['CALCE'],       # 仅使用 CALCE\n",
    "    config['models'],\n",
    "    config['start_points'],        # [0.3, 0.5, 0.7]\n",
    "    config['model_save_dir'],\n",
    "    config['seeds']\n",
    ")\n",
    "data_path, test_bat, seq_length, rated_capacity, failure_threshold = (\n",
    "    data_config['data_path'],\n",
    "    data_config['test_bat'],\n",
    "    data_config['seq_length'],\n",
    "    data_config['rated_capacity'],\n",
    "    data_config['failure_threshold']\n",
    ")\n",
    "device = torch.device(config['device'] if torch.cuda.is_available() else \"cpu\")\n",
    "\n",
    "# 画图：指定模型文件范围，不同预测起始点（0.0、0.3、0.5、0.7）\n",
    "# 1. 初始化结果字典\n",
    "results = {}\n",
    "for sp in start_points:\n",
    "    results[sp] = {}\n",
    "\n",
    "# 2. 获取数据\n",
    "norm_data, failure_time = read_and_norm(data_path, rated_capacity, failure_threshold)\n",
    "_, actual_seq = split_data(norm_data, test_bat)\n",
    "\n",
    "for filename in os.listdir(dir):\n",
    "    exp_num, model_name, s_num = parse_model_filename(filename)\n",
    "\n",
    "    # 3. 加载模型\n",
    "    model_config = models_config[model_name]\n",
    "    model_path = os.path.join(dir, filename)\n",
    "    model = get_model(model_config, device)\n",
    "    model.load_state_dict(torch.load(model_path, map_location=device))\n",
    "        \n",
    "    # 4. 预测：生成预测曲线（字典，key: {sp}, subkey: '{model_name}_s-{s_num}'，val: pred_seq）\n",
    "    for sp in start_points:\n",
    "        pred_seq = predict(model_config, model, sp, actual_seq, seq_length, failure_threshold, device)\n",
    "        model_key = f'{model_name}_s-{s_num}'\n",
    "        results[sp][model_key] = pred_seq\n",
    "\n",
    "# 5. 画图：一个sp对应一张图\n",
    "for sp, pred_seqs in results.items():\n",
    "    plot(actual_seq, pred_seqs, sp, failure_threshold, seq_length, test_bat)\n",
    "\n"
   ]
  },
  {
   "cell_type": "code",
   "execution_count": null,
   "metadata": {},
   "outputs": [],
   "source": []
  }
 ],
 "metadata": {
  "kernelspec": {
   "display_name": "pytorch",
   "language": "python",
   "name": "python3"
  },
  "language_info": {
   "codemirror_mode": {
    "name": "ipython",
    "version": 3
   },
   "file_extension": ".py",
   "mimetype": "text/x-python",
   "name": "python",
   "nbconvert_exporter": "python",
   "pygments_lexer": "ipython3",
   "version": "3.9.18"
  }
 },
 "nbformat": 4,
 "nbformat_minor": 2
}
